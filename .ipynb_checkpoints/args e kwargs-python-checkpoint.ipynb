{
 "cells": [
  {
   "cell_type": "markdown",
   "id": "69172a58",
   "metadata": {},
   "source": [
    "### Funções no Python\n",
    "\n",
    "1. Argumentos de Posição e Keyword\n",
    "2. args e kwargs"
   ]
  },
  {
   "cell_type": "code",
   "execution_count": null,
   "id": "1ea9bcc1",
   "metadata": {},
   "outputs": [],
   "source": [
    "#Argumentos de uma função no python\n",
    "# Exemplo: (valor) é um argumento que passamos para a função 'calcular_imposto' funcionar.\n",
    "# E toda a função pode funcionar passando a posição ou a keyword que no caso é (valor).\n",
    "# Para keyword tanto faz a ordem que voce vai passar \n",
    "# LEMBRAR, primeiro o argumento de posição depois o argumento keyword"
   ]
  },
  {
   "cell_type": "code",
   "execution_count": 1,
   "id": "833c122e",
   "metadata": {},
   "outputs": [
    {
     "name": "stdout",
     "output_type": "stream",
     "text": [
      "392.5\n"
     ]
    }
   ],
   "source": [
    "def calcular_imposto(valor):\n",
    "    ir = valor * 0.275\n",
    "    iss = valor * 0.05\n",
    "    csll = valor * 0.0375\n",
    "    pis = valor * 0.03\n",
    "    return ir + iss + csll + pis\n",
    "\n",
    "print(calcular_imposto(1000))"
   ]
  },
  {
   "cell_type": "code",
   "execution_count": 2,
   "id": "a82c5347",
   "metadata": {},
   "outputs": [
    {
     "name": "stdout",
     "output_type": "stream",
     "text": [
      "39.25\n"
     ]
    }
   ],
   "source": [
    "print(calcular_imposto(valor=100))"
   ]
  },
  {
   "cell_type": "code",
   "execution_count": 3,
   "id": "1a9a6f99",
   "metadata": {},
   "outputs": [],
   "source": [
    "# com posição"
   ]
  },
  {
   "cell_type": "code",
   "execution_count": 5,
   "id": "5dcb3ba2",
   "metadata": {},
   "outputs": [
    {
     "name": "stdout",
     "output_type": "stream",
     "text": [
      "392.5\n"
     ]
    }
   ],
   "source": [
    "def calcular_imposto(valor, perc_ir):\n",
    "    ir = valor * perc_ir\n",
    "    iss = valor * 0.05\n",
    "    csll = valor * 0.0375\n",
    "    pis = valor * 0.03\n",
    "    return ir + iss + csll + pis\n",
    "\n",
    "print(calcular_imposto(valor=1000,perc_ir=0.275))"
   ]
  },
  {
   "cell_type": "code",
   "execution_count": 8,
   "id": "58385dd7",
   "metadata": {},
   "outputs": [],
   "source": [
    "#args = * >> varios parametros de acordo com a posição dos parâmetros"
   ]
  },
  {
   "cell_type": "code",
   "execution_count": 11,
   "id": "486ae380",
   "metadata": {},
   "outputs": [
    {
     "name": "stdout",
     "output_type": "stream",
     "text": [
      "392.5\n"
     ]
    }
   ],
   "source": [
    "def calcular_imposto(valor, *args):\n",
    "    total_imposto = 0\n",
    "    for item in args:\n",
    "        total_imposto += valor * item\n",
    "    return total_imposto\n",
    "\n",
    "print(calcular_imposto(1000,0.275,0.05,0.0375,0.03))\n"
   ]
  },
  {
   "cell_type": "code",
   "execution_count": null,
   "id": "5f65dc70",
   "metadata": {},
   "outputs": [],
   "source": [
    "# kwargs = ** >> varios parametros de acordo com o nome destes parametros\n",
    "# sempre os nomes passados para dentro de um dicionário"
   ]
  },
  {
   "cell_type": "code",
   "execution_count": 16,
   "id": "d1c57261",
   "metadata": {},
   "outputs": [
    {
     "name": "stdout",
     "output_type": "stream",
     "text": [
      "{'perc_iss': 0.05, 'perc_pis': 0.03, 'perc_ir': 0.275, 'perc_csll': 0.0375}\n",
      "275.0\n"
     ]
    }
   ],
   "source": [
    "def calcular_imposto_trimestral(valor, **kwargs):\n",
    "    total_imposto = 0\n",
    "    print(kwargs)\n",
    "    if \"perc_ir\" in kwargs:\n",
    "        total_imposto += valor * kwargs['perc_ir']\n",
    "    if \"per_csll\" in kwargs:\n",
    "        total_imposto += valor * kwargs['perc_csll']    \n",
    "    return total_imposto\n",
    "\n",
    "print(calcular_imposto_trimestral(1000,perc_iss=0.05,perc_pis=0.03,perc_ir=0.275,perc_csll=0.0375))"
   ]
  },
  {
   "cell_type": "code",
   "execution_count": null,
   "id": "6f336e94",
   "metadata": {},
   "outputs": [],
   "source": []
  }
 ],
 "metadata": {
  "kernelspec": {
   "display_name": "Python 3 (ipykernel)",
   "language": "python",
   "name": "python3"
  },
  "language_info": {
   "codemirror_mode": {
    "name": "ipython",
    "version": 3
   },
   "file_extension": ".py",
   "mimetype": "text/x-python",
   "name": "python",
   "nbconvert_exporter": "python",
   "pygments_lexer": "ipython3",
   "version": "3.9.12"
  }
 },
 "nbformat": 4,
 "nbformat_minor": 5
}
